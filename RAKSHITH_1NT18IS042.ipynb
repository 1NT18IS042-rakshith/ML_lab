{
 "cells": [
  {
   "cell_type": "code",
   "execution_count": 1,
   "metadata": {},
   "outputs": [
    {
     "name": "stdout",
     "output_type": "stream",
     "text": [
      "hello world\n"
     ]
    }
   ],
   "source": [
    "print(\"hello world\")"
   ]
  },
  {
   "cell_type": "code",
   "execution_count": 2,
   "metadata": {},
   "outputs": [
    {
     "name": "stdout",
     "output_type": "stream",
     "text": [
      "10\n"
     ]
    }
   ],
   "source": [
    "a=10\n",
    "print(a)"
   ]
  },
  {
   "cell_type": "code",
   "execution_count": 3,
   "metadata": {},
   "outputs": [
    {
     "name": "stdout",
     "output_type": "stream",
     "text": [
      "30\n",
      "-10\n",
      "200\n",
      "0.5\n"
     ]
    }
   ],
   "source": [
    "a=10\n",
    "b=20\n",
    "print(a+b)\n",
    "print(a-b)\n",
    "print(a*b)\n",
    "print(a/b)"
   ]
  },
  {
   "cell_type": "code",
   "execution_count": 4,
   "metadata": {},
   "outputs": [
    {
     "name": "stdout",
     "output_type": "stream",
     "text": [
      "b is greater\n"
     ]
    }
   ],
   "source": [
    "a=2\n",
    "b=3\n",
    "c=1\n",
    "if(a>b and a>c):\n",
    "    print(\"a greater\")\n",
    "elif(b>c):\n",
    "    print(\"b is greater\")\n",
    "else:\n",
    "    print(\"c is greater\")"
   ]
  },
  {
   "cell_type": "code",
   "execution_count": 8,
   "metadata": {},
   "outputs": [
    {
     "name": "stdout",
     "output_type": "stream",
     "text": [
      "enter the 1st stringsai\n",
      "reverse of the string = ias\n",
      "enter the 2nd stringraks\n",
      "conc of two strings sairaks\n",
      "string c copy of b  raks\n",
      "enter the stringescn\n",
      "length of the string = 4\n",
      "enter the stringmiami\n",
      "miam\n"
     ]
    }
   ],
   "source": [
    "a=input(\"enter the 1st string\")\n",
    "print(\"reverse of the string =\", a[::-1])\n",
    "b=input(\"enter the 2nd string\")\n",
    "print(\"conc of two strings\",a+b)\n",
    "c=b\n",
    "print(\"string c copy of b \",c)\n",
    "d=input(\"enter the string\")\n",
    "print(\"length of the string =\",len(d))\n",
    "e=input(\"enter the string\")\n",
    "print (e[0:4])"
   ]
  },
  {
   "cell_type": "code",
   "execution_count": 14,
   "metadata": {},
   "outputs": [
    {
     "name": "stdout",
     "output_type": "stream",
     "text": [
      "10\n",
      "20\n",
      "30\n",
      "40\n",
      "50\n",
      "60\n",
      "popped 60\n",
      "concatenation [10, 20, 50, 40, 50, 'good', 10, 0, 100, 'mornig', 300]\n",
      "list 1  [10, 20, 50, 40, 50]\n",
      "[20, 50, 40]\n",
      "list 2  ['good', 10, 0, 100, 'mornig', 300]\n"
     ]
    }
   ],
   "source": [
    "lst1=[10,20,30,40,50,60]\n",
    "lst2=[\"good\",10,0,100,\"mornig\"]\n",
    "for i in lst1:\n",
    "        print(i)\n",
    "lst1[2]=50\n",
    "lst2.append(300)\n",
    "print(\"popped\",lst1.pop())\n",
    "print(\"concatenation\",lst1+lst2)\n",
    "print(\"list 1 \",lst1)\n",
    "print(lst1[1:4])\n",
    "print(\"list 2 \",lst2)\n"
   ]
  },
  {
   "cell_type": "code",
   "execution_count": null,
   "metadata": {},
   "outputs": [],
   "source": [
    "dict1={1:29,2:30,3:18,4:27}\n",
    "dict2={\"one\":100,\"two\":\"good\",\"three\":120.8}\n"
   ]
  }
 ],
 "metadata": {
  "kernelspec": {
   "display_name": "Python 3",
   "language": "python",
   "name": "python3"
  },
  "language_info": {
   "codemirror_mode": {
    "name": "ipython",
    "version": 3
   },
   "file_extension": ".py",
   "mimetype": "text/x-python",
   "name": "python",
   "nbconvert_exporter": "python",
   "pygments_lexer": "ipython3",
   "version": "3.7.4"
  }
 },
 "nbformat": 4,
 "nbformat_minor": 2
}
