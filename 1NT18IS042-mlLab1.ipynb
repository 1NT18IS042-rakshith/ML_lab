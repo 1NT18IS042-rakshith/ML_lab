{
 "cells": [
  {
   "cell_type": "code",
   "execution_count": 1,
   "metadata": {},
   "outputs": [
    {
     "name": "stdout",
     "output_type": "stream",
     "text": [
      "hello world\n"
     ]
    }
   ],
   "source": [
    "print(\"hello world\")"
   ]
  },
  {
   "cell_type": "code",
   "execution_count": 2,
   "metadata": {},
   "outputs": [
    {
     "name": "stdout",
     "output_type": "stream",
     "text": [
      "10\n"
     ]
    }
   ],
   "source": [
    "a=10\n",
    "print(a)\n"
   ]
  },
  {
   "cell_type": "code",
   "execution_count": 3,
   "metadata": {},
   "outputs": [
    {
     "name": "stdout",
     "output_type": "stream",
     "text": [
      "30\n",
      "-10\n",
      "200\n",
      "0.5\n"
     ]
    }
   ],
   "source": [
    "a=10\n",
    "b=20\n",
    "print(a+b)\n",
    "print(a-b)\n",
    "print(a*b)\n",
    "print(a/b)"
   ]
  },
  {
   "cell_type": "code",
   "execution_count": 5,
   "metadata": {},
   "outputs": [
    {
     "name": "stdout",
     "output_type": "stream",
     "text": [
      "a = 40\n",
      "b = 30\n"
     ]
    }
   ],
   "source": [
    "a=30\n",
    "b=40\n",
    "a=a+b\n",
    "b=a-b\n",
    "a=a-b\n",
    "print(\"a =\",a)\n",
    "print(\"b =\",b)"
   ]
  },
  {
   "cell_type": "code",
   "execution_count": 8,
   "metadata": {},
   "outputs": [
    {
     "name": "stdout",
     "output_type": "stream",
     "text": [
      "b is greater\n"
     ]
    }
   ],
   "source": [
    "a=2\n",
    "b=3\n",
    "c=1\n",
    "if(a>b and a>c):\n",
    "    print(\"a is greater\")\n",
    "elif(b>c):\n",
    "    print(\"b is greater\")\n",
    "else:\n",
    "    print(\"c is greater\")"
   ]
  },
  {
   "cell_type": "code",
   "execution_count": 13,
   "metadata": {},
   "outputs": [
    {
     "name": "stdout",
     "output_type": "stream",
     "text": [
      "0\n",
      "1\n",
      "2\n",
      "3\n",
      "4\n",
      "5\n",
      "6\n",
      "7\n",
      "8\n"
     ]
    }
   ],
   "source": [
    "a=[1,2,3,4,5,6,7,8,9]\n",
    "for i in range (0,len(a)):\n",
    "    print(i)\n",
    "    "
   ]
  },
  {
   "cell_type": "code",
   "execution_count": 14,
   "metadata": {},
   "outputs": [
    {
     "name": "stdout",
     "output_type": "stream",
     "text": [
      "0\n",
      "1\n",
      "2\n",
      "3\n",
      "4\n",
      "5\n",
      "6\n",
      "7\n",
      "8\n",
      "9\n",
      "10\n",
      "11\n",
      "12\n",
      "13\n",
      "14\n",
      "15\n",
      "16\n",
      "17\n",
      "18\n",
      "19\n"
     ]
    }
   ],
   "source": [
    "for i in range(20):\n",
    "    print(i)"
   ]
  },
  {
   "cell_type": "code",
   "execution_count": 15,
   "metadata": {},
   "outputs": [
    {
     "name": "stdout",
     "output_type": "stream",
     "text": [
      "enter a number4\n",
      "4\n"
     ]
    }
   ],
   "source": [
    "a=input(\"enter a number\")\n",
    "print(a)\n"
   ]
  },
  {
   "cell_type": "code",
   "execution_count": 16,
   "metadata": {},
   "outputs": [
    {
     "name": "stdout",
     "output_type": "stream",
     "text": [
      "enter a number4\n"
     ]
    },
    {
     "data": {
      "text/plain": [
       "int"
      ]
     },
     "execution_count": 16,
     "metadata": {},
     "output_type": "execute_result"
    }
   ],
   "source": [
    "a=int(input(\"enter a number\"))\n",
    "type(a)\n"
   ]
  },
  {
   "cell_type": "code",
   "execution_count": 22,
   "metadata": {},
   "outputs": [
    {
     "name": "stdout",
     "output_type": "stream",
     "text": [
      "enter 1st number30\n",
      "enter 2nd number40\n",
      "enter the operator=\n",
      "operator does not exist\n"
     ]
    }
   ],
   "source": [
    "a=int(input(\"enter 1st number\"))\n",
    "b=int(input(\"enter 2nd number\"))\n",
    "c=input(\"enter the operator\")\n",
    "if(c=='+'):\n",
    "    print(\"sum of 2 numbers =\",a+b)\n",
    "elif(c=='-'):\n",
    "    print(\"diff of 2 numbers =\",a-b)\n",
    "elif(c=='*'):\n",
    "    print(\"product of 2 numbers =\",a*b)\n",
    "elif(c=='/'):\n",
    "    print(\"div of 2 numbers =\",a/b)\n",
    "else:\n",
    "    print(\"operator does not exist\")\n"
   ]
  },
  {
   "cell_type": "code",
   "execution_count": 24,
   "metadata": {},
   "outputs": [
    {
     "name": "stdout",
     "output_type": "stream",
     "text": [
      "success\n"
     ]
    }
   ],
   "source": [
    "a=10\n",
    "if(a<20):\n",
    "    print(\"success\")\n",
    "else:\n",
    "    print(\"failure\")"
   ]
  },
  {
   "cell_type": "code",
   "execution_count": 27,
   "metadata": {},
   "outputs": [
    {
     "name": "stdout",
     "output_type": "stream",
     "text": [
      "enter the 1st stringapple\n",
      "reverse of the string = elppa\n",
      "enter the 2nd stringmango\n",
      "concatenation of two strings applemango\n",
      "string c copy of b mango\n",
      "enter the stringanusha\n",
      "length of the string = 6\n",
      "enter stringmanami\n",
      "mana\n"
     ]
    }
   ],
   "source": [
    "a=input(\"enter the 1st string\")\n",
    "print(\"reverse of the string =\",a[::-1])\n",
    "b=input(\"enter the 2nd string\")\n",
    "print(\"concatenation of two strings\",a+b)\n",
    "c=b\n",
    "print(\"string c copy of b\",c)\n",
    "d=input(\"enter the string\")\n",
    "print(\"length of the string =\",len(d))\n",
    "e=input(\"enter string\")\n",
    "print(e[0:4])"
   ]
  },
  {
   "cell_type": "code",
   "execution_count": 30,
   "metadata": {},
   "outputs": [
    {
     "name": "stdout",
     "output_type": "stream",
     "text": [
      "10\n",
      "20\n",
      "30\n",
      "40\n",
      "50\n",
      "60\n",
      "popped 60\n",
      "concatenation [10, 20, 50, 40, 50, 'good', 10, 0, 100, 'morning', 300]\n",
      "list 1 [10, 20, 50, 40, 50]\n",
      "[20, 50, 40, 50]\n",
      "list 2 ['good', 10, 0, 100, 'morning', 300]\n"
     ]
    }
   ],
   "source": [
    "lst1=[10,20,30,40,50,60]\n",
    "lst2=[\"good\",10,0,100,\"morning\"]\n",
    "for i in lst1:\n",
    "    print(i)\n",
    "lst1[2]=50\n",
    "lst2.append(300)\n",
    "print(\"popped\",lst1.pop())\n",
    "print(\"concatenation\",lst1+lst2)\n",
    "print(\"list 1\",lst1)\n",
    "print(lst1[1:5])\n",
    "print(\"list 2\",lst2)\n"
   ]
  },
  {
   "cell_type": "code",
   "execution_count": null,
   "metadata": {},
   "outputs": [],
   "source": [
    "lst1=[10,20,30,40,50,60]\n",
    "lst2=[\"good\",10,0,100,\"morning\"]\n",
    "for i in lst1:\n",
    "    print(i)\n",
    "lst1[2]=50\n",
    "lst2.append(300)\n",
    "print(\"popped\",lst1.pop())\n",
    "print(\"concatenation\",lst1+lst2)\n",
    "print(\"list 1\",lst1)\n",
    "print(lst1[1:5])\n",
    "print(\"list 2\",lst2)\n"
   ]
  }
 ],
 "metadata": {
  "kernelspec": {
   "display_name": "Python 3",
   "language": "python",
   "name": "python3"
  },
  "language_info": {
   "codemirror_mode": {
    "name": "ipython",
    "version": 3
   },
   "file_extension": ".py",
   "mimetype": "text/x-python",
   "name": "python",
   "nbconvert_exporter": "python",
   "pygments_lexer": "ipython3",
   "version": "3.7.4"
  }
 },
 "nbformat": 4,
 "nbformat_minor": 2
}
