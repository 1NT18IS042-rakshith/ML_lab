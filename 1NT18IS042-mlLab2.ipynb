{
 "cells": [
  {
   "cell_type": "code",
   "execution_count": 12,
   "metadata": {},
   "outputs": [
    {
     "name": "stdout",
     "output_type": "stream",
     "text": [
      "1 2 3 1 2 3 2 2 3 3 3 4\n",
      "mean of the array 2.4166666666666665\n",
      "mean using built-in functions 2.4166666666666665\n",
      "[1, 1, 2, 2, 2, 2, 3, 3, 3, 3, 3, 4]\n",
      "median of the array 2.5\n",
      "median using built-in functions 2.5\n",
      "mode of the array 3\n",
      "mode using built-in functions 3\n",
      "variance of the array 0.8106060606060604\n",
      "variance using built-in functions 0.8106060606060607\n",
      "sd of the array 0.9003366373785199\n",
      "sd using built-in functions 0.90033663737852\n"
     ]
    }
   ],
   "source": [
    "import statistics as st\n",
    "import math \n",
    "\n",
    "arr=list(map(int,input().split()))\n",
    "mean=sum(arr)/len(arr)\n",
    "print(\"mean of the array\",mean)\n",
    "print(\"mean using built-in functions\",st.mean(arr))\n",
    "arr.sort()\n",
    "if(len(arr)%2==0):\n",
    "    median=(arr[(len(arr)//2)-1]+arr[len(arr)//2])/2\n",
    "else:\n",
    "    median=(arr[len(arr)//2])\n",
    "print(arr)\n",
    "print(\"median of the array\",median)\n",
    "print(\"median using built-in functions\",st.median(arr))\n",
    "\n",
    "i=0\n",
    "c=[]\n",
    "l=[]\n",
    "\n",
    "while(i<len(arr)):\n",
    "    j=0\n",
    "    count=0\n",
    "    while(j<len(arr)):\n",
    "        if(arr[i]==arr[j]):\n",
    "            count+=1\n",
    "        j+=1\n",
    "    c.append(count)\n",
    "    l.append(arr[i])\n",
    "    i+=count\n",
    "ind=c.index(max(c))\n",
    "modee=l[ind]\n",
    "print(\"mode of the array\",modee)\n",
    "print(\"mode using built-in functions\",st.mode(arr))\n",
    "\n",
    "sums=0\n",
    "for i in arr:\n",
    "    sums+=(i-mean)**2\n",
    "variance=sums/(len(arr)-1)\n",
    "print(\"variance of the array\",variance)\n",
    "print(\"variance using built-in functions\",st.variance(arr))\n",
    "\n",
    "deviation=math.sqrt(variance)\n",
    "print(\"sd of the array\",deviation)\n",
    "print(\"sd using built-in functions\",st.stdev(arr))\n"
   ]
  },
  {
   "cell_type": "code",
   "execution_count": null,
   "metadata": {},
   "outputs": [],
   "source": []
  },
  {
   "cell_type": "code",
   "execution_count": null,
   "metadata": {},
   "outputs": [],
   "source": []
  }
 ],
 "metadata": {
  "kernelspec": {
   "display_name": "Python 3",
   "language": "python",
   "name": "python3"
  },
  "language_info": {
   "codemirror_mode": {
    "name": "ipython",
    "version": 3
   },
   "file_extension": ".py",
   "mimetype": "text/x-python",
   "name": "python",
   "nbconvert_exporter": "python",
   "pygments_lexer": "ipython3",
   "version": "3.7.4"
  }
 },
 "nbformat": 4,
 "nbformat_minor": 2
}
